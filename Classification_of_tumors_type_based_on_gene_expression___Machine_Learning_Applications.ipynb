{
  "nbformat": 4,
  "nbformat_minor": 0,
  "metadata": {
    "colab": {
      "provenance": [],
      "collapsed_sections": [
        "ll9N-DhFDYPg"
      ]
    },
    "kernelspec": {
      "name": "python3",
      "display_name": "Python 3"
    },
    "language_info": {
      "name": "python"
    }
  },
  "cells": [
    {
      "cell_type": "markdown",
      "source": [
        "# ***Download data using WGET***"
      ],
      "metadata": {
        "id": "3OPYa9KPCN40"
      }
    },
    {
      "cell_type": "code",
      "execution_count": null,
      "metadata": {
        "colab": {
          "base_uri": "https://localhost:8080/"
        },
        "id": "dnR4xthAHxGh",
        "outputId": "18756ddf-403c-4e2c-85eb-29c48d6ca010"
      },
      "outputs": [
        {
          "output_type": "stream",
          "name": "stdout",
          "text": [
            "--2023-02-14 13:17:04--  https://archive.ics.uci.edu/ml/machine-learning-databases/00401/TCGA-PANCAN-HiSeq-801x20531.tar.gz\n",
            "Resolving archive.ics.uci.edu (archive.ics.uci.edu)... 128.195.10.252\n",
            "Connecting to archive.ics.uci.edu (archive.ics.uci.edu)|128.195.10.252|:443... connected.\n",
            "HTTP request sent, awaiting response... 200 OK\n",
            "Length: 72856320 (69M) [application/x-httpd-php]\n",
            "Saving to: ‘TCGA-PANCAN-HiSeq-801x20531.tar.gz’\n",
            "\n",
            "TCGA-PANCAN-HiSeq-8 100%[===================>]  69.48M  35.2MB/s    in 2.0s    \n",
            "\n",
            "2023-02-14 13:17:07 (35.2 MB/s) - ‘TCGA-PANCAN-HiSeq-801x20531.tar.gz’ saved [72856320/72856320]\n",
            "\n"
          ]
        }
      ],
      "source": [
        "!wget https://archive.ics.uci.edu/ml/machine-learning-databases/00401/TCGA-PANCAN-HiSeq-801x20531.tar.gz"
      ]
    },
    {
      "cell_type": "markdown",
      "source": [
        "# ***Extract Data from archive using TAR -XF***"
      ],
      "metadata": {
        "id": "7M0kS5VqCXAt"
      }
    },
    {
      "cell_type": "code",
      "source": [
        "!tar -xf TCGA-PANCAN-HiSeq-801x20531.tar.gz"
      ],
      "metadata": {
        "id": "eGvhBq8rteg8"
      },
      "execution_count": null,
      "outputs": []
    },
    {
      "cell_type": "markdown",
      "source": [
        "# ***Get DATAFRAME ('Tableau') from file using pandas where file is csv format***"
      ],
      "metadata": {
        "id": "EoE_FHP4Cjt2"
      }
    },
    {
      "cell_type": "code",
      "source": [
        "import pandas as pd\n",
        "data = pd.read_csv('TCGA-PANCAN-HiSeq-801x20531/data.csv',delimiter=',')"
      ],
      "metadata": {
        "id": "EJmz792_w0vY"
      },
      "execution_count": null,
      "outputs": []
    },
    {
      "cell_type": "code",
      "source": [
        "print(data)"
      ],
      "metadata": {
        "colab": {
          "base_uri": "https://localhost:8080/"
        },
        "id": "AlBScxpBzkJt",
        "outputId": "40c8f06f-5538-45ea-a2d2-1a1d825a629d"
      },
      "execution_count": null,
      "outputs": [
        {
          "output_type": "stream",
          "name": "stdout",
          "text": [
            "     Unnamed: 0  gene_0    gene_1    gene_2    gene_3     gene_4  gene_5  \\\n",
            "0      sample_0     0.0  2.017209  3.265527  5.478487  10.431999     0.0   \n",
            "1      sample_1     0.0  0.592732  1.588421  7.586157   9.623011     0.0   \n",
            "2      sample_2     0.0  3.511759  4.327199  6.881787   9.870730     0.0   \n",
            "3      sample_3     0.0  3.663618  4.507649  6.659068  10.196184     0.0   \n",
            "4      sample_4     0.0  2.655741  2.821547  6.539454   9.738265     0.0   \n",
            "..          ...     ...       ...       ...       ...        ...     ...   \n",
            "796  sample_796     0.0  1.865642  2.718197  7.350099  10.006003     0.0   \n",
            "797  sample_797     0.0  3.942955  4.453807  6.346597  10.056868     0.0   \n",
            "798  sample_798     0.0  3.249582  3.707492  8.185901   9.504082     0.0   \n",
            "799  sample_799     0.0  2.590339  2.787976  7.318624   9.987136     0.0   \n",
            "800  sample_800     0.0  2.325242  3.805932  6.530246   9.560367     0.0   \n",
            "\n",
            "       gene_6    gene_7  gene_8  ...  gene_20521  gene_20522  gene_20523  \\\n",
            "0    7.175175  0.591871     0.0  ...    4.926711    8.210257    9.723516   \n",
            "1    6.816049  0.000000     0.0  ...    4.593372    7.323865    9.740931   \n",
            "2    6.972130  0.452595     0.0  ...    5.125213    8.127123   10.908640   \n",
            "3    7.843375  0.434882     0.0  ...    6.076566    8.792959   10.141520   \n",
            "4    6.566967  0.360982     0.0  ...    5.996032    8.891425   10.373790   \n",
            "..        ...       ...     ...  ...         ...         ...         ...   \n",
            "796  6.764792  0.496922     0.0  ...    6.088133    9.118313   10.004852   \n",
            "797  7.320331  0.000000     0.0  ...    6.371876    9.623335    9.823921   \n",
            "798  7.536589  1.811101     0.0  ...    5.719386    8.610704   10.485517   \n",
            "799  9.213464  0.000000     0.0  ...    5.785237    8.605387   11.004677   \n",
            "800  7.957027  0.000000     0.0  ...    6.403075    8.594354   10.243079   \n",
            "\n",
            "     gene_20524  gene_20525  gene_20526  gene_20527  gene_20528  gene_20529  \\\n",
            "0      7.220030    9.119813   12.003135    9.650743    8.921326    5.286759   \n",
            "1      6.256586    8.381612   12.674552   10.517059    9.397854    2.094168   \n",
            "2      5.401607    9.911597    9.045255    9.788359   10.090470    1.683023   \n",
            "3      8.942805    9.601208   11.392682    9.694814    9.684365    3.292001   \n",
            "4      7.181162    9.846910   11.922439    9.217749    9.461191    5.110372   \n",
            "..          ...         ...         ...         ...         ...         ...   \n",
            "796    4.484415    9.614701   12.031267    9.813063   10.092770    8.819269   \n",
            "797    6.555327    9.064002   11.633422   10.317266    8.745983    9.659081   \n",
            "798    3.589763    9.350636   12.180944   10.681194    9.466711    4.677458   \n",
            "799    4.745888    9.626383   11.198279   10.335513   10.400581    5.718751   \n",
            "800    9.139459   10.102934   11.641081   10.607358    9.844794    4.550716   \n",
            "\n",
            "     gene_20530  \n",
            "0      0.000000  \n",
            "1      0.000000  \n",
            "2      0.000000  \n",
            "3      0.000000  \n",
            "4      0.000000  \n",
            "..          ...  \n",
            "796    0.000000  \n",
            "797    0.000000  \n",
            "798    0.586693  \n",
            "799    0.000000  \n",
            "800    0.000000  \n",
            "\n",
            "[801 rows x 20532 columns]\n"
          ]
        }
      ]
    },
    {
      "cell_type": "markdown",
      "source": [
        "# ***Show the loaded data in table format***"
      ],
      "metadata": {
        "id": "SB-hGJ7oC2mr"
      }
    },
    {
      "cell_type": "code",
      "source": [
        "data.head()"
      ],
      "metadata": {
        "colab": {
          "base_uri": "https://localhost:8080/",
          "height": 317
        },
        "id": "ANk7sKjE0eY9",
        "outputId": "96d095b7-b4b7-4ce7-88b0-d56556ce0b4e"
      },
      "execution_count": null,
      "outputs": [
        {
          "output_type": "execute_result",
          "data": {
            "text/plain": [
              "  Unnamed: 0  gene_0    gene_1    gene_2    gene_3     gene_4  gene_5  \\\n",
              "0   sample_0     0.0  2.017209  3.265527  5.478487  10.431999     0.0   \n",
              "1   sample_1     0.0  0.592732  1.588421  7.586157   9.623011     0.0   \n",
              "2   sample_2     0.0  3.511759  4.327199  6.881787   9.870730     0.0   \n",
              "3   sample_3     0.0  3.663618  4.507649  6.659068  10.196184     0.0   \n",
              "4   sample_4     0.0  2.655741  2.821547  6.539454   9.738265     0.0   \n",
              "\n",
              "     gene_6    gene_7  gene_8  ...  gene_20521  gene_20522  gene_20523  \\\n",
              "0  7.175175  0.591871     0.0  ...    4.926711    8.210257    9.723516   \n",
              "1  6.816049  0.000000     0.0  ...    4.593372    7.323865    9.740931   \n",
              "2  6.972130  0.452595     0.0  ...    5.125213    8.127123   10.908640   \n",
              "3  7.843375  0.434882     0.0  ...    6.076566    8.792959   10.141520   \n",
              "4  6.566967  0.360982     0.0  ...    5.996032    8.891425   10.373790   \n",
              "\n",
              "   gene_20524  gene_20525  gene_20526  gene_20527  gene_20528  gene_20529  \\\n",
              "0    7.220030    9.119813   12.003135    9.650743    8.921326    5.286759   \n",
              "1    6.256586    8.381612   12.674552   10.517059    9.397854    2.094168   \n",
              "2    5.401607    9.911597    9.045255    9.788359   10.090470    1.683023   \n",
              "3    8.942805    9.601208   11.392682    9.694814    9.684365    3.292001   \n",
              "4    7.181162    9.846910   11.922439    9.217749    9.461191    5.110372   \n",
              "\n",
              "   gene_20530  \n",
              "0         0.0  \n",
              "1         0.0  \n",
              "2         0.0  \n",
              "3         0.0  \n",
              "4         0.0  \n",
              "\n",
              "[5 rows x 20532 columns]"
            ],
            "text/html": [
              "\n",
              "  <div id=\"df-73cb0b0c-8da5-45d6-b9c1-5437844ef21f\">\n",
              "    <div class=\"colab-df-container\">\n",
              "      <div>\n",
              "<style scoped>\n",
              "    .dataframe tbody tr th:only-of-type {\n",
              "        vertical-align: middle;\n",
              "    }\n",
              "\n",
              "    .dataframe tbody tr th {\n",
              "        vertical-align: top;\n",
              "    }\n",
              "\n",
              "    .dataframe thead th {\n",
              "        text-align: right;\n",
              "    }\n",
              "</style>\n",
              "<table border=\"1\" class=\"dataframe\">\n",
              "  <thead>\n",
              "    <tr style=\"text-align: right;\">\n",
              "      <th></th>\n",
              "      <th>Unnamed: 0</th>\n",
              "      <th>gene_0</th>\n",
              "      <th>gene_1</th>\n",
              "      <th>gene_2</th>\n",
              "      <th>gene_3</th>\n",
              "      <th>gene_4</th>\n",
              "      <th>gene_5</th>\n",
              "      <th>gene_6</th>\n",
              "      <th>gene_7</th>\n",
              "      <th>gene_8</th>\n",
              "      <th>...</th>\n",
              "      <th>gene_20521</th>\n",
              "      <th>gene_20522</th>\n",
              "      <th>gene_20523</th>\n",
              "      <th>gene_20524</th>\n",
              "      <th>gene_20525</th>\n",
              "      <th>gene_20526</th>\n",
              "      <th>gene_20527</th>\n",
              "      <th>gene_20528</th>\n",
              "      <th>gene_20529</th>\n",
              "      <th>gene_20530</th>\n",
              "    </tr>\n",
              "  </thead>\n",
              "  <tbody>\n",
              "    <tr>\n",
              "      <th>0</th>\n",
              "      <td>sample_0</td>\n",
              "      <td>0.0</td>\n",
              "      <td>2.017209</td>\n",
              "      <td>3.265527</td>\n",
              "      <td>5.478487</td>\n",
              "      <td>10.431999</td>\n",
              "      <td>0.0</td>\n",
              "      <td>7.175175</td>\n",
              "      <td>0.591871</td>\n",
              "      <td>0.0</td>\n",
              "      <td>...</td>\n",
              "      <td>4.926711</td>\n",
              "      <td>8.210257</td>\n",
              "      <td>9.723516</td>\n",
              "      <td>7.220030</td>\n",
              "      <td>9.119813</td>\n",
              "      <td>12.003135</td>\n",
              "      <td>9.650743</td>\n",
              "      <td>8.921326</td>\n",
              "      <td>5.286759</td>\n",
              "      <td>0.0</td>\n",
              "    </tr>\n",
              "    <tr>\n",
              "      <th>1</th>\n",
              "      <td>sample_1</td>\n",
              "      <td>0.0</td>\n",
              "      <td>0.592732</td>\n",
              "      <td>1.588421</td>\n",
              "      <td>7.586157</td>\n",
              "      <td>9.623011</td>\n",
              "      <td>0.0</td>\n",
              "      <td>6.816049</td>\n",
              "      <td>0.000000</td>\n",
              "      <td>0.0</td>\n",
              "      <td>...</td>\n",
              "      <td>4.593372</td>\n",
              "      <td>7.323865</td>\n",
              "      <td>9.740931</td>\n",
              "      <td>6.256586</td>\n",
              "      <td>8.381612</td>\n",
              "      <td>12.674552</td>\n",
              "      <td>10.517059</td>\n",
              "      <td>9.397854</td>\n",
              "      <td>2.094168</td>\n",
              "      <td>0.0</td>\n",
              "    </tr>\n",
              "    <tr>\n",
              "      <th>2</th>\n",
              "      <td>sample_2</td>\n",
              "      <td>0.0</td>\n",
              "      <td>3.511759</td>\n",
              "      <td>4.327199</td>\n",
              "      <td>6.881787</td>\n",
              "      <td>9.870730</td>\n",
              "      <td>0.0</td>\n",
              "      <td>6.972130</td>\n",
              "      <td>0.452595</td>\n",
              "      <td>0.0</td>\n",
              "      <td>...</td>\n",
              "      <td>5.125213</td>\n",
              "      <td>8.127123</td>\n",
              "      <td>10.908640</td>\n",
              "      <td>5.401607</td>\n",
              "      <td>9.911597</td>\n",
              "      <td>9.045255</td>\n",
              "      <td>9.788359</td>\n",
              "      <td>10.090470</td>\n",
              "      <td>1.683023</td>\n",
              "      <td>0.0</td>\n",
              "    </tr>\n",
              "    <tr>\n",
              "      <th>3</th>\n",
              "      <td>sample_3</td>\n",
              "      <td>0.0</td>\n",
              "      <td>3.663618</td>\n",
              "      <td>4.507649</td>\n",
              "      <td>6.659068</td>\n",
              "      <td>10.196184</td>\n",
              "      <td>0.0</td>\n",
              "      <td>7.843375</td>\n",
              "      <td>0.434882</td>\n",
              "      <td>0.0</td>\n",
              "      <td>...</td>\n",
              "      <td>6.076566</td>\n",
              "      <td>8.792959</td>\n",
              "      <td>10.141520</td>\n",
              "      <td>8.942805</td>\n",
              "      <td>9.601208</td>\n",
              "      <td>11.392682</td>\n",
              "      <td>9.694814</td>\n",
              "      <td>9.684365</td>\n",
              "      <td>3.292001</td>\n",
              "      <td>0.0</td>\n",
              "    </tr>\n",
              "    <tr>\n",
              "      <th>4</th>\n",
              "      <td>sample_4</td>\n",
              "      <td>0.0</td>\n",
              "      <td>2.655741</td>\n",
              "      <td>2.821547</td>\n",
              "      <td>6.539454</td>\n",
              "      <td>9.738265</td>\n",
              "      <td>0.0</td>\n",
              "      <td>6.566967</td>\n",
              "      <td>0.360982</td>\n",
              "      <td>0.0</td>\n",
              "      <td>...</td>\n",
              "      <td>5.996032</td>\n",
              "      <td>8.891425</td>\n",
              "      <td>10.373790</td>\n",
              "      <td>7.181162</td>\n",
              "      <td>9.846910</td>\n",
              "      <td>11.922439</td>\n",
              "      <td>9.217749</td>\n",
              "      <td>9.461191</td>\n",
              "      <td>5.110372</td>\n",
              "      <td>0.0</td>\n",
              "    </tr>\n",
              "  </tbody>\n",
              "</table>\n",
              "<p>5 rows × 20532 columns</p>\n",
              "</div>\n",
              "      <button class=\"colab-df-convert\" onclick=\"convertToInteractive('df-73cb0b0c-8da5-45d6-b9c1-5437844ef21f')\"\n",
              "              title=\"Convert this dataframe to an interactive table.\"\n",
              "              style=\"display:none;\">\n",
              "        \n",
              "  <svg xmlns=\"http://www.w3.org/2000/svg\" height=\"24px\"viewBox=\"0 0 24 24\"\n",
              "       width=\"24px\">\n",
              "    <path d=\"M0 0h24v24H0V0z\" fill=\"none\"/>\n",
              "    <path d=\"M18.56 5.44l.94 2.06.94-2.06 2.06-.94-2.06-.94-.94-2.06-.94 2.06-2.06.94zm-11 1L8.5 8.5l.94-2.06 2.06-.94-2.06-.94L8.5 2.5l-.94 2.06-2.06.94zm10 10l.94 2.06.94-2.06 2.06-.94-2.06-.94-.94-2.06-.94 2.06-2.06.94z\"/><path d=\"M17.41 7.96l-1.37-1.37c-.4-.4-.92-.59-1.43-.59-.52 0-1.04.2-1.43.59L10.3 9.45l-7.72 7.72c-.78.78-.78 2.05 0 2.83L4 21.41c.39.39.9.59 1.41.59.51 0 1.02-.2 1.41-.59l7.78-7.78 2.81-2.81c.8-.78.8-2.07 0-2.86zM5.41 20L4 18.59l7.72-7.72 1.47 1.35L5.41 20z\"/>\n",
              "  </svg>\n",
              "      </button>\n",
              "      \n",
              "  <style>\n",
              "    .colab-df-container {\n",
              "      display:flex;\n",
              "      flex-wrap:wrap;\n",
              "      gap: 12px;\n",
              "    }\n",
              "\n",
              "    .colab-df-convert {\n",
              "      background-color: #E8F0FE;\n",
              "      border: none;\n",
              "      border-radius: 50%;\n",
              "      cursor: pointer;\n",
              "      display: none;\n",
              "      fill: #1967D2;\n",
              "      height: 32px;\n",
              "      padding: 0 0 0 0;\n",
              "      width: 32px;\n",
              "    }\n",
              "\n",
              "    .colab-df-convert:hover {\n",
              "      background-color: #E2EBFA;\n",
              "      box-shadow: 0px 1px 2px rgba(60, 64, 67, 0.3), 0px 1px 3px 1px rgba(60, 64, 67, 0.15);\n",
              "      fill: #174EA6;\n",
              "    }\n",
              "\n",
              "    [theme=dark] .colab-df-convert {\n",
              "      background-color: #3B4455;\n",
              "      fill: #D2E3FC;\n",
              "    }\n",
              "\n",
              "    [theme=dark] .colab-df-convert:hover {\n",
              "      background-color: #434B5C;\n",
              "      box-shadow: 0px 1px 3px 1px rgba(0, 0, 0, 0.15);\n",
              "      filter: drop-shadow(0px 1px 2px rgba(0, 0, 0, 0.3));\n",
              "      fill: #FFFFFF;\n",
              "    }\n",
              "  </style>\n",
              "\n",
              "      <script>\n",
              "        const buttonEl =\n",
              "          document.querySelector('#df-73cb0b0c-8da5-45d6-b9c1-5437844ef21f button.colab-df-convert');\n",
              "        buttonEl.style.display =\n",
              "          google.colab.kernel.accessAllowed ? 'block' : 'none';\n",
              "\n",
              "        async function convertToInteractive(key) {\n",
              "          const element = document.querySelector('#df-73cb0b0c-8da5-45d6-b9c1-5437844ef21f');\n",
              "          const dataTable =\n",
              "            await google.colab.kernel.invokeFunction('convertToInteractive',\n",
              "                                                     [key], {});\n",
              "          if (!dataTable) return;\n",
              "\n",
              "          const docLinkHtml = 'Like what you see? Visit the ' +\n",
              "            '<a target=\"_blank\" href=https://colab.research.google.com/notebooks/data_table.ipynb>data table notebook</a>'\n",
              "            + ' to learn more about interactive tables.';\n",
              "          element.innerHTML = '';\n",
              "          dataTable['output_type'] = 'display_data';\n",
              "          await google.colab.output.renderOutput(dataTable, element);\n",
              "          const docLink = document.createElement('div');\n",
              "          docLink.innerHTML = docLinkHtml;\n",
              "          element.appendChild(docLink);\n",
              "        }\n",
              "      </script>\n",
              "    </div>\n",
              "  </div>\n",
              "  "
            ]
          },
          "metadata": {},
          "execution_count": 7
        }
      ]
    },
    {
      "cell_type": "code",
      "source": [
        "labels = pd.read_csv('TCGA-PANCAN-HiSeq-801x20531/labels.csv')"
      ],
      "metadata": {
        "id": "zYuKHamR0pw0"
      },
      "execution_count": null,
      "outputs": []
    },
    {
      "cell_type": "code",
      "source": [
        "labels.head()"
      ],
      "metadata": {
        "colab": {
          "base_uri": "https://localhost:8080/",
          "height": 206
        },
        "id": "K0nGdHG30yw9",
        "outputId": "421463de-5f2b-40fb-cd8d-8aa3dc3321e6"
      },
      "execution_count": null,
      "outputs": [
        {
          "output_type": "execute_result",
          "data": {
            "text/plain": [
              "  Unnamed: 0 Class\n",
              "0   sample_0  PRAD\n",
              "1   sample_1  LUAD\n",
              "2   sample_2  PRAD\n",
              "3   sample_3  PRAD\n",
              "4   sample_4  BRCA"
            ],
            "text/html": [
              "\n",
              "  <div id=\"df-d85beb2e-49e6-45f5-bd46-50eabd862b8b\">\n",
              "    <div class=\"colab-df-container\">\n",
              "      <div>\n",
              "<style scoped>\n",
              "    .dataframe tbody tr th:only-of-type {\n",
              "        vertical-align: middle;\n",
              "    }\n",
              "\n",
              "    .dataframe tbody tr th {\n",
              "        vertical-align: top;\n",
              "    }\n",
              "\n",
              "    .dataframe thead th {\n",
              "        text-align: right;\n",
              "    }\n",
              "</style>\n",
              "<table border=\"1\" class=\"dataframe\">\n",
              "  <thead>\n",
              "    <tr style=\"text-align: right;\">\n",
              "      <th></th>\n",
              "      <th>Unnamed: 0</th>\n",
              "      <th>Class</th>\n",
              "    </tr>\n",
              "  </thead>\n",
              "  <tbody>\n",
              "    <tr>\n",
              "      <th>0</th>\n",
              "      <td>sample_0</td>\n",
              "      <td>PRAD</td>\n",
              "    </tr>\n",
              "    <tr>\n",
              "      <th>1</th>\n",
              "      <td>sample_1</td>\n",
              "      <td>LUAD</td>\n",
              "    </tr>\n",
              "    <tr>\n",
              "      <th>2</th>\n",
              "      <td>sample_2</td>\n",
              "      <td>PRAD</td>\n",
              "    </tr>\n",
              "    <tr>\n",
              "      <th>3</th>\n",
              "      <td>sample_3</td>\n",
              "      <td>PRAD</td>\n",
              "    </tr>\n",
              "    <tr>\n",
              "      <th>4</th>\n",
              "      <td>sample_4</td>\n",
              "      <td>BRCA</td>\n",
              "    </tr>\n",
              "  </tbody>\n",
              "</table>\n",
              "</div>\n",
              "      <button class=\"colab-df-convert\" onclick=\"convertToInteractive('df-d85beb2e-49e6-45f5-bd46-50eabd862b8b')\"\n",
              "              title=\"Convert this dataframe to an interactive table.\"\n",
              "              style=\"display:none;\">\n",
              "        \n",
              "  <svg xmlns=\"http://www.w3.org/2000/svg\" height=\"24px\"viewBox=\"0 0 24 24\"\n",
              "       width=\"24px\">\n",
              "    <path d=\"M0 0h24v24H0V0z\" fill=\"none\"/>\n",
              "    <path d=\"M18.56 5.44l.94 2.06.94-2.06 2.06-.94-2.06-.94-.94-2.06-.94 2.06-2.06.94zm-11 1L8.5 8.5l.94-2.06 2.06-.94-2.06-.94L8.5 2.5l-.94 2.06-2.06.94zm10 10l.94 2.06.94-2.06 2.06-.94-2.06-.94-.94-2.06-.94 2.06-2.06.94z\"/><path d=\"M17.41 7.96l-1.37-1.37c-.4-.4-.92-.59-1.43-.59-.52 0-1.04.2-1.43.59L10.3 9.45l-7.72 7.72c-.78.78-.78 2.05 0 2.83L4 21.41c.39.39.9.59 1.41.59.51 0 1.02-.2 1.41-.59l7.78-7.78 2.81-2.81c.8-.78.8-2.07 0-2.86zM5.41 20L4 18.59l7.72-7.72 1.47 1.35L5.41 20z\"/>\n",
              "  </svg>\n",
              "      </button>\n",
              "      \n",
              "  <style>\n",
              "    .colab-df-container {\n",
              "      display:flex;\n",
              "      flex-wrap:wrap;\n",
              "      gap: 12px;\n",
              "    }\n",
              "\n",
              "    .colab-df-convert {\n",
              "      background-color: #E8F0FE;\n",
              "      border: none;\n",
              "      border-radius: 50%;\n",
              "      cursor: pointer;\n",
              "      display: none;\n",
              "      fill: #1967D2;\n",
              "      height: 32px;\n",
              "      padding: 0 0 0 0;\n",
              "      width: 32px;\n",
              "    }\n",
              "\n",
              "    .colab-df-convert:hover {\n",
              "      background-color: #E2EBFA;\n",
              "      box-shadow: 0px 1px 2px rgba(60, 64, 67, 0.3), 0px 1px 3px 1px rgba(60, 64, 67, 0.15);\n",
              "      fill: #174EA6;\n",
              "    }\n",
              "\n",
              "    [theme=dark] .colab-df-convert {\n",
              "      background-color: #3B4455;\n",
              "      fill: #D2E3FC;\n",
              "    }\n",
              "\n",
              "    [theme=dark] .colab-df-convert:hover {\n",
              "      background-color: #434B5C;\n",
              "      box-shadow: 0px 1px 3px 1px rgba(0, 0, 0, 0.15);\n",
              "      filter: drop-shadow(0px 1px 2px rgba(0, 0, 0, 0.3));\n",
              "      fill: #FFFFFF;\n",
              "    }\n",
              "  </style>\n",
              "\n",
              "      <script>\n",
              "        const buttonEl =\n",
              "          document.querySelector('#df-d85beb2e-49e6-45f5-bd46-50eabd862b8b button.colab-df-convert');\n",
              "        buttonEl.style.display =\n",
              "          google.colab.kernel.accessAllowed ? 'block' : 'none';\n",
              "\n",
              "        async function convertToInteractive(key) {\n",
              "          const element = document.querySelector('#df-d85beb2e-49e6-45f5-bd46-50eabd862b8b');\n",
              "          const dataTable =\n",
              "            await google.colab.kernel.invokeFunction('convertToInteractive',\n",
              "                                                     [key], {});\n",
              "          if (!dataTable) return;\n",
              "\n",
              "          const docLinkHtml = 'Like what you see? Visit the ' +\n",
              "            '<a target=\"_blank\" href=https://colab.research.google.com/notebooks/data_table.ipynb>data table notebook</a>'\n",
              "            + ' to learn more about interactive tables.';\n",
              "          element.innerHTML = '';\n",
              "          dataTable['output_type'] = 'display_data';\n",
              "          await google.colab.output.renderOutput(dataTable, element);\n",
              "          const docLink = document.createElement('div');\n",
              "          docLink.innerHTML = docLinkHtml;\n",
              "          element.appendChild(docLink);\n",
              "        }\n",
              "      </script>\n",
              "    </div>\n",
              "  </div>\n",
              "  "
            ]
          },
          "metadata": {},
          "execution_count": 9
        }
      ]
    },
    {
      "cell_type": "markdown",
      "source": [
        "# ***Load using .iloc[rows,columns] the targeted columns and rows, and convert it to vectors using .values***"
      ],
      "metadata": {
        "id": "HOOcynXLDA7r"
      }
    },
    {
      "cell_type": "code",
      "source": [
        "x = data.iloc[:,1:].values"
      ],
      "metadata": {
        "id": "ngkp2QRp3YBJ"
      },
      "execution_count": null,
      "outputs": []
    },
    {
      "cell_type": "code",
      "source": [
        "print(x)"
      ],
      "metadata": {
        "colab": {
          "base_uri": "https://localhost:8080/"
        },
        "id": "2ixPDQW14fDP",
        "outputId": "f8251e17-6b5f-40f4-edc5-a634d9dcae23"
      },
      "execution_count": null,
      "outputs": [
        {
          "output_type": "stream",
          "name": "stdout",
          "text": [
            "[[ 0.          2.01720929  3.26552691 ...  8.92132623  5.28675919\n",
            "   0.        ]\n",
            " [ 0.          0.59273209  1.58842082 ...  9.39785429  2.09416849\n",
            "   0.        ]\n",
            " [ 0.          3.51175898  4.32719872 ... 10.09046974  1.68302267\n",
            "   0.        ]\n",
            " ...\n",
            " [ 0.          3.24958187  3.70749166 ...  9.46671072  4.6774575\n",
            "   0.5866927 ]\n",
            " [ 0.          2.59033853  2.78797567 ... 10.40058062  5.71875068\n",
            "   0.        ]\n",
            " [ 0.          2.32524248  3.80593214 ...  9.84479363  4.55071601\n",
            "   0.        ]]\n"
          ]
        }
      ]
    },
    {
      "cell_type": "code",
      "source": [
        "x.shape"
      ],
      "metadata": {
        "colab": {
          "base_uri": "https://localhost:8080/"
        },
        "id": "Bbl1TaiSFJ5h",
        "outputId": "4f6bc8d5-a09f-40b7-8e28-c2153285925b"
      },
      "execution_count": null,
      "outputs": [
        {
          "output_type": "execute_result",
          "data": {
            "text/plain": [
              "(801, 20531)"
            ]
          },
          "metadata": {},
          "execution_count": 15
        }
      ]
    },
    {
      "cell_type": "code",
      "source": [
        "y = labels.iloc[:,1]"
      ],
      "metadata": {
        "id": "iqilKVCp40xf"
      },
      "execution_count": null,
      "outputs": []
    },
    {
      "cell_type": "code",
      "source": [
        "print(y)"
      ],
      "metadata": {
        "colab": {
          "base_uri": "https://localhost:8080/"
        },
        "id": "9KATROIWEldp",
        "outputId": "b96b3d25-b73b-48a7-a9a5-e43439e437d7"
      },
      "execution_count": null,
      "outputs": [
        {
          "output_type": "stream",
          "name": "stdout",
          "text": [
            "0      PRAD\n",
            "1      LUAD\n",
            "2      PRAD\n",
            "3      PRAD\n",
            "4      BRCA\n",
            "       ... \n",
            "796    BRCA\n",
            "797    LUAD\n",
            "798    COAD\n",
            "799    PRAD\n",
            "800    PRAD\n",
            "Name: Class, Length: 801, dtype: object\n"
          ]
        }
      ]
    },
    {
      "cell_type": "markdown",
      "source": [
        "# ***Data processing***"
      ],
      "metadata": {
        "id": "ll9N-DhFDYPg"
      }
    },
    {
      "cell_type": "markdown",
      "source": [
        "# **Normalization **"
      ],
      "metadata": {
        "id": "nzQ4UmdhDcoe"
      }
    },
    {
      "cell_type": "code",
      "source": [
        "from sklearn.preprocessing import StandardScaler\n",
        "\n",
        "# Initialize the scaler object\n",
        "scaler = StandardScaler()\n",
        "\n",
        "# Transform the data\n",
        "x = scaler.fit_transform(x)"
      ],
      "metadata": {
        "id": "RMo_952A7M9m"
      },
      "execution_count": null,
      "outputs": []
    },
    {
      "cell_type": "markdown",
      "source": [
        "# ***Construire l'ensemble de teste et l'ensemble d'apprentissage***"
      ],
      "metadata": {
        "id": "F4rgJYfuDiEr"
      }
    },
    {
      "cell_type": "code",
      "source": [
        "from sklearn.model_selection import train_test_split\n",
        "\n",
        "# Split the data into training and testing sets\n",
        "X_train, X_test, y_train, y_test = train_test_split(x, y, test_size=0.2, random_state=42,shuffle=True)"
      ],
      "metadata": {
        "id": "MVSUC2M79yIz"
      },
      "execution_count": null,
      "outputs": []
    },
    {
      "cell_type": "markdown",
      "source": [
        "# ***Training the model***"
      ],
      "metadata": {
        "id": "nOviiJ9PDrNC"
      }
    },
    {
      "cell_type": "code",
      "source": [
        "from sklearn.ensemble import BaggingClassifier\n",
        "model = BaggingClassifier()\n",
        "model.fit(X_train,y_train)\n"
      ],
      "metadata": {
        "colab": {
          "base_uri": "https://localhost:8080/"
        },
        "id": "oJyU9O-2-7tK",
        "outputId": "5d09c869-e7ad-444a-f779-85114d0c3f4e"
      },
      "execution_count": null,
      "outputs": [
        {
          "output_type": "execute_result",
          "data": {
            "text/plain": [
              "BaggingClassifier()"
            ]
          },
          "metadata": {},
          "execution_count": 19
        }
      ]
    },
    {
      "cell_type": "code",
      "source": [
        "print(X_test.shape)"
      ],
      "metadata": {
        "colab": {
          "base_uri": "https://localhost:8080/"
        },
        "id": "IjOvMPIXHC0R",
        "outputId": "58cb95d3-c784-4523-e79f-a9e203cbc90a"
      },
      "execution_count": null,
      "outputs": [
        {
          "output_type": "stream",
          "name": "stdout",
          "text": [
            "(161, 20531)\n"
          ]
        }
      ]
    },
    {
      "cell_type": "markdown",
      "source": [
        "# ***Evaluation du modèle en utilisant la partie Teste***"
      ],
      "metadata": {
        "id": "W8yhXxSEMHr0"
      }
    },
    {
      "cell_type": "code",
      "source": [
        "from sklearn.metrics import *\n",
        "y_pred = model.predict(X_test)"
      ],
      "metadata": {
        "id": "j-IlDgVRCDOE"
      },
      "execution_count": null,
      "outputs": []
    },
    {
      "cell_type": "code",
      "source": [
        "print(y_pred.shape)"
      ],
      "metadata": {
        "colab": {
          "base_uri": "https://localhost:8080/"
        },
        "id": "tOjJYPR5HZII",
        "outputId": "27372319-2682-40d2-c0fa-d5e5e39baf2c"
      },
      "execution_count": null,
      "outputs": [
        {
          "output_type": "stream",
          "name": "stdout",
          "text": [
            "(161,)\n"
          ]
        }
      ]
    },
    {
      "cell_type": "code",
      "source": [
        "print(y_pred)"
      ],
      "metadata": {
        "colab": {
          "base_uri": "https://localhost:8080/"
        },
        "id": "kCiXOUQsGueg",
        "outputId": "3c659a8d-fa63-4f5f-bbf9-c2b0da51b4ff"
      },
      "execution_count": null,
      "outputs": [
        {
          "output_type": "stream",
          "name": "stdout",
          "text": [
            "['LUAD' 'BRCA' 'LUAD' 'KIRC' 'BRCA' 'BRCA' 'BRCA' 'COAD' 'PRAD' 'LUAD'\n",
            " 'COAD' 'BRCA' 'LUAD' 'PRAD' 'KIRC' 'LUAD' 'LUAD' 'PRAD' 'BRCA' 'LUAD'\n",
            " 'LUAD' 'COAD' 'KIRC' 'BRCA' 'BRCA' 'BRCA' 'COAD' 'BRCA' 'PRAD' 'PRAD'\n",
            " 'BRCA' 'PRAD' 'PRAD' 'COAD' 'BRCA' 'BRCA' 'LUAD' 'BRCA' 'LUAD' 'BRCA'\n",
            " 'COAD' 'BRCA' 'BRCA' 'BRCA' 'KIRC' 'PRAD' 'KIRC' 'COAD' 'BRCA' 'BRCA'\n",
            " 'PRAD' 'LUAD' 'KIRC' 'BRCA' 'KIRC' 'BRCA' 'KIRC' 'BRCA' 'LUAD' 'LUAD'\n",
            " 'LUAD' 'KIRC' 'PRAD' 'BRCA' 'PRAD' 'BRCA' 'LUAD' 'PRAD' 'KIRC' 'BRCA'\n",
            " 'BRCA' 'LUAD' 'BRCA' 'BRCA' 'BRCA' 'LUAD' 'PRAD' 'PRAD' 'KIRC' 'BRCA'\n",
            " 'KIRC' 'BRCA' 'BRCA' 'KIRC' 'LUAD' 'BRCA' 'BRCA' 'PRAD' 'COAD' 'COAD'\n",
            " 'COAD' 'KIRC' 'BRCA' 'BRCA' 'BRCA' 'PRAD' 'LUAD' 'COAD' 'COAD' 'BRCA'\n",
            " 'BRCA' 'BRCA' 'BRCA' 'LUAD' 'BRCA' 'KIRC' 'BRCA' 'KIRC' 'LUAD' 'BRCA'\n",
            " 'PRAD' 'KIRC' 'PRAD' 'BRCA' 'LUAD' 'PRAD' 'BRCA' 'LUAD' 'LUAD' 'PRAD'\n",
            " 'KIRC' 'KIRC' 'BRCA' 'LUAD' 'LUAD' 'PRAD' 'BRCA' 'BRCA' 'LUAD' 'BRCA'\n",
            " 'BRCA' 'BRCA' 'PRAD' 'KIRC' 'COAD' 'BRCA' 'PRAD' 'LUAD' 'PRAD' 'BRCA'\n",
            " 'BRCA' 'KIRC' 'PRAD' 'LUAD' 'PRAD' 'COAD' 'KIRC' 'BRCA' 'PRAD' 'KIRC'\n",
            " 'BRCA' 'BRCA' 'BRCA' 'KIRC' 'KIRC' 'COAD' 'PRAD' 'COAD' 'LUAD' 'BRCA'\n",
            " 'COAD']\n"
          ]
        }
      ]
    },
    {
      "cell_type": "code",
      "source": [
        "print(y_test)"
      ],
      "metadata": {
        "colab": {
          "base_uri": "https://localhost:8080/"
        },
        "id": "k6pzf6ffH5WQ",
        "outputId": "be48f792-5627-4c2a-9f82-5bc61a139884"
      },
      "execution_count": null,
      "outputs": [
        {
          "output_type": "stream",
          "name": "stdout",
          "text": [
            "697    LUAD\n",
            "668    BRCA\n",
            "63     LUAD\n",
            "534    KIRC\n",
            "66     BRCA\n",
            "       ... \n",
            "799    PRAD\n",
            "745    COAD\n",
            "513    LUAD\n",
            "671    BRCA\n",
            "264    COAD\n",
            "Name: Class, Length: 161, dtype: object\n"
          ]
        }
      ]
    },
    {
      "cell_type": "code",
      "source": [
        "acc = accuracy_score(y_test,y_pred)"
      ],
      "metadata": {
        "id": "REF9uw5eIEI4"
      },
      "execution_count": null,
      "outputs": []
    },
    {
      "cell_type": "code",
      "source": [
        "print(acc)"
      ],
      "metadata": {
        "colab": {
          "base_uri": "https://localhost:8080/"
        },
        "id": "FhHucWuNJnHW",
        "outputId": "5e76eb00-7b30-4031-d4bd-0b617b178283"
      },
      "execution_count": null,
      "outputs": [
        {
          "output_type": "stream",
          "name": "stdout",
          "text": [
            "0.9813664596273292\n"
          ]
        }
      ]
    },
    {
      "cell_type": "code",
      "source": [
        "precision = precision_score(y_test,y_pred,average='macro')"
      ],
      "metadata": {
        "id": "aNbV6UtNJuZ9"
      },
      "execution_count": null,
      "outputs": []
    },
    {
      "cell_type": "code",
      "source": [
        "print(precision)"
      ],
      "metadata": {
        "colab": {
          "base_uri": "https://localhost:8080/"
        },
        "id": "A_nzEbpfLEUs",
        "outputId": "4195d6a9-ddad-4b39-a6a6-5096ded73625"
      },
      "execution_count": null,
      "outputs": [
        {
          "output_type": "stream",
          "name": "stdout",
          "text": [
            "0.9900546448087433\n"
          ]
        }
      ]
    },
    {
      "cell_type": "markdown",
      "source": [
        "# **Deploy**"
      ],
      "metadata": {
        "id": "i5-s5DRnMWk7"
      }
    },
    {
      "cell_type": "code",
      "source": [
        "model = BaggingClassifier()\n",
        "model.fit(x,y)"
      ],
      "metadata": {
        "colab": {
          "base_uri": "https://localhost:8080/"
        },
        "id": "criJrClMOM05",
        "outputId": "55e92cff-94f8-4302-e77d-383828b13a26"
      },
      "execution_count": null,
      "outputs": [
        {
          "output_type": "execute_result",
          "data": {
            "text/plain": [
              "BaggingClassifier()"
            ]
          },
          "metadata": {},
          "execution_count": 38
        }
      ]
    },
    {
      "cell_type": "markdown",
      "source": [
        "Convertir vers un fichier (Serialisation)"
      ],
      "metadata": {
        "id": "2HHlrMTLPYF_"
      }
    },
    {
      "cell_type": "code",
      "source": [
        "import pickle\n",
        "pickle.dump(model, open('baggingmodel', 'wb'))"
      ],
      "metadata": {
        "id": "uQljqlglOduw"
      },
      "execution_count": null,
      "outputs": []
    },
    {
      "cell_type": "markdown",
      "source": [
        "Convertir le fichier vers un model ( deserialisation)"
      ],
      "metadata": {
        "id": "n2A1y1uPPcw_"
      }
    },
    {
      "cell_type": "code",
      "source": [
        "model_loaded = pickle.load(open('baggingmodel','rb'))"
      ],
      "metadata": {
        "id": "7rQeYQ5kPgtY"
      },
      "execution_count": null,
      "outputs": []
    },
    {
      "cell_type": "code",
      "source": [
        "print(model_loaded.predict(x))"
      ],
      "metadata": {
        "colab": {
          "base_uri": "https://localhost:8080/",
          "height": 1000
        },
        "id": "3ZD1D5D4RKmV",
        "outputId": "46dad99a-73d1-488d-c2cb-ce076dd21be9"
      },
      "execution_count": null,
      "outputs": [
        {
          "output_type": "error",
          "ename": "ValueError",
          "evalue": "ignored",
          "traceback": [
            "\u001b[0;31m---------------------------------------------------------------------------\u001b[0m",
            "\u001b[0;31mValueError\u001b[0m                                Traceback (most recent call last)",
            "\u001b[0;32m<ipython-input-47-d0b452065c96>\u001b[0m in \u001b[0;36m<module>\u001b[0;34m\u001b[0m\n\u001b[0;32m----> 1\u001b[0;31m \u001b[0mprint\u001b[0m\u001b[0;34m(\u001b[0m\u001b[0mmodel_loaded\u001b[0m\u001b[0;34m.\u001b[0m\u001b[0mpredict\u001b[0m\u001b[0;34m(\u001b[0m\u001b[0my\u001b[0m\u001b[0;34m)\u001b[0m\u001b[0;34m)\u001b[0m\u001b[0;34m\u001b[0m\u001b[0;34m\u001b[0m\u001b[0m\n\u001b[0m",
            "\u001b[0;32m/usr/local/lib/python3.8/dist-packages/sklearn/ensemble/_bagging.py\u001b[0m in \u001b[0;36mpredict\u001b[0;34m(self, X)\u001b[0m\n\u001b[1;32m    742\u001b[0m             \u001b[0mThe\u001b[0m \u001b[0mpredicted\u001b[0m \u001b[0mclasses\u001b[0m\u001b[0;34m.\u001b[0m\u001b[0;34m\u001b[0m\u001b[0;34m\u001b[0m\u001b[0m\n\u001b[1;32m    743\u001b[0m         \"\"\"\n\u001b[0;32m--> 744\u001b[0;31m         \u001b[0mpredicted_probabilitiy\u001b[0m \u001b[0;34m=\u001b[0m \u001b[0mself\u001b[0m\u001b[0;34m.\u001b[0m\u001b[0mpredict_proba\u001b[0m\u001b[0;34m(\u001b[0m\u001b[0mX\u001b[0m\u001b[0;34m)\u001b[0m\u001b[0;34m\u001b[0m\u001b[0;34m\u001b[0m\u001b[0m\n\u001b[0m\u001b[1;32m    745\u001b[0m         \u001b[0;32mreturn\u001b[0m \u001b[0mself\u001b[0m\u001b[0;34m.\u001b[0m\u001b[0mclasses_\u001b[0m\u001b[0;34m.\u001b[0m\u001b[0mtake\u001b[0m\u001b[0;34m(\u001b[0m\u001b[0;34m(\u001b[0m\u001b[0mnp\u001b[0m\u001b[0;34m.\u001b[0m\u001b[0margmax\u001b[0m\u001b[0;34m(\u001b[0m\u001b[0mpredicted_probabilitiy\u001b[0m\u001b[0;34m,\u001b[0m \u001b[0maxis\u001b[0m\u001b[0;34m=\u001b[0m\u001b[0;36m1\u001b[0m\u001b[0;34m)\u001b[0m\u001b[0;34m)\u001b[0m\u001b[0;34m,\u001b[0m \u001b[0maxis\u001b[0m\u001b[0;34m=\u001b[0m\u001b[0;36m0\u001b[0m\u001b[0;34m)\u001b[0m\u001b[0;34m\u001b[0m\u001b[0;34m\u001b[0m\u001b[0m\n\u001b[1;32m    746\u001b[0m \u001b[0;34m\u001b[0m\u001b[0m\n",
            "\u001b[0;32m/usr/local/lib/python3.8/dist-packages/sklearn/ensemble/_bagging.py\u001b[0m in \u001b[0;36mpredict_proba\u001b[0;34m(self, X)\u001b[0m\n\u001b[1;32m    769\u001b[0m         \u001b[0mcheck_is_fitted\u001b[0m\u001b[0;34m(\u001b[0m\u001b[0mself\u001b[0m\u001b[0;34m)\u001b[0m\u001b[0;34m\u001b[0m\u001b[0;34m\u001b[0m\u001b[0m\n\u001b[1;32m    770\u001b[0m         \u001b[0;31m# Check data\u001b[0m\u001b[0;34m\u001b[0m\u001b[0;34m\u001b[0m\u001b[0;34m\u001b[0m\u001b[0m\n\u001b[0;32m--> 771\u001b[0;31m         X = self._validate_data(\n\u001b[0m\u001b[1;32m    772\u001b[0m             \u001b[0mX\u001b[0m\u001b[0;34m,\u001b[0m\u001b[0;34m\u001b[0m\u001b[0;34m\u001b[0m\u001b[0m\n\u001b[1;32m    773\u001b[0m             \u001b[0maccept_sparse\u001b[0m\u001b[0;34m=\u001b[0m\u001b[0;34m[\u001b[0m\u001b[0;34m\"csr\"\u001b[0m\u001b[0;34m,\u001b[0m \u001b[0;34m\"csc\"\u001b[0m\u001b[0;34m]\u001b[0m\u001b[0;34m,\u001b[0m\u001b[0;34m\u001b[0m\u001b[0;34m\u001b[0m\u001b[0m\n",
            "\u001b[0;32m/usr/local/lib/python3.8/dist-packages/sklearn/base.py\u001b[0m in \u001b[0;36m_validate_data\u001b[0;34m(self, X, y, reset, validate_separately, **check_params)\u001b[0m\n\u001b[1;32m    564\u001b[0m             \u001b[0;32mraise\u001b[0m \u001b[0mValueError\u001b[0m\u001b[0;34m(\u001b[0m\u001b[0;34m\"Validation should be done on X, y or both.\"\u001b[0m\u001b[0;34m)\u001b[0m\u001b[0;34m\u001b[0m\u001b[0;34m\u001b[0m\u001b[0m\n\u001b[1;32m    565\u001b[0m         \u001b[0;32melif\u001b[0m \u001b[0;32mnot\u001b[0m \u001b[0mno_val_X\u001b[0m \u001b[0;32mand\u001b[0m \u001b[0mno_val_y\u001b[0m\u001b[0;34m:\u001b[0m\u001b[0;34m\u001b[0m\u001b[0;34m\u001b[0m\u001b[0m\n\u001b[0;32m--> 566\u001b[0;31m             \u001b[0mX\u001b[0m \u001b[0;34m=\u001b[0m \u001b[0mcheck_array\u001b[0m\u001b[0;34m(\u001b[0m\u001b[0mX\u001b[0m\u001b[0;34m,\u001b[0m \u001b[0;34m**\u001b[0m\u001b[0mcheck_params\u001b[0m\u001b[0;34m)\u001b[0m\u001b[0;34m\u001b[0m\u001b[0;34m\u001b[0m\u001b[0m\n\u001b[0m\u001b[1;32m    567\u001b[0m             \u001b[0mout\u001b[0m \u001b[0;34m=\u001b[0m \u001b[0mX\u001b[0m\u001b[0;34m\u001b[0m\u001b[0;34m\u001b[0m\u001b[0m\n\u001b[1;32m    568\u001b[0m         \u001b[0;32melif\u001b[0m \u001b[0mno_val_X\u001b[0m \u001b[0;32mand\u001b[0m \u001b[0;32mnot\u001b[0m \u001b[0mno_val_y\u001b[0m\u001b[0;34m:\u001b[0m\u001b[0;34m\u001b[0m\u001b[0;34m\u001b[0m\u001b[0m\n",
            "\u001b[0;32m/usr/local/lib/python3.8/dist-packages/sklearn/utils/validation.py\u001b[0m in \u001b[0;36mcheck_array\u001b[0;34m(array, accept_sparse, accept_large_sparse, dtype, order, copy, force_all_finite, ensure_2d, allow_nd, ensure_min_samples, ensure_min_features, estimator)\u001b[0m\n\u001b[1;32m    767\u001b[0m             \u001b[0;31m# If input is 1D raise error\u001b[0m\u001b[0;34m\u001b[0m\u001b[0;34m\u001b[0m\u001b[0;34m\u001b[0m\u001b[0m\n\u001b[1;32m    768\u001b[0m             \u001b[0;32mif\u001b[0m \u001b[0marray\u001b[0m\u001b[0;34m.\u001b[0m\u001b[0mndim\u001b[0m \u001b[0;34m==\u001b[0m \u001b[0;36m1\u001b[0m\u001b[0;34m:\u001b[0m\u001b[0;34m\u001b[0m\u001b[0;34m\u001b[0m\u001b[0m\n\u001b[0;32m--> 769\u001b[0;31m                 raise ValueError(\n\u001b[0m\u001b[1;32m    770\u001b[0m                     \u001b[0;34m\"Expected 2D array, got 1D array instead:\\narray={}.\\n\"\u001b[0m\u001b[0;34m\u001b[0m\u001b[0;34m\u001b[0m\u001b[0m\n\u001b[1;32m    771\u001b[0m                     \u001b[0;34m\"Reshape your data either using array.reshape(-1, 1) if \"\u001b[0m\u001b[0;34m\u001b[0m\u001b[0;34m\u001b[0m\u001b[0m\n",
            "\u001b[0;31mValueError\u001b[0m: Expected 2D array, got 1D array instead:\narray=['PRAD' 'LUAD' 'PRAD' 'PRAD' 'BRCA' 'PRAD' 'KIRC' 'PRAD' 'BRCA' 'PRAD'\n 'BRCA' 'KIRC' 'PRAD' 'BRCA' 'BRCA' 'BRCA' 'LUAD' 'KIRC' 'KIRC' 'PRAD'\n 'BRCA' 'KIRC' 'LUAD' 'BRCA' 'KIRC' 'LUAD' 'COAD' 'BRCA' 'BRCA' 'BRCA'\n 'BRCA' 'BRCA' 'KIRC' 'BRCA' 'PRAD' 'BRCA' 'KIRC' 'LUAD' 'BRCA' 'BRCA'\n 'KIRC' 'PRAD' 'PRAD' 'KIRC' 'KIRC' 'BRCA' 'PRAD' 'COAD' 'BRCA' 'LUAD'\n 'BRCA' 'LUAD' 'BRCA' 'PRAD' 'COAD' 'BRCA' 'BRCA' 'COAD' 'KIRC' 'BRCA'\n 'LUAD' 'KIRC' 'BRCA' 'LUAD' 'PRAD' 'COAD' 'BRCA' 'PRAD' 'KIRC' 'BRCA'\n 'KIRC' 'BRCA' 'BRCA' 'LUAD' 'BRCA' 'LUAD' 'BRCA' 'KIRC' 'PRAD' 'COAD'\n 'BRCA' 'PRAD' 'BRCA' 'BRCA' 'PRAD' 'PRAD' 'BRCA' 'BRCA' 'KIRC' 'BRCA'\n 'PRAD' 'PRAD' 'BRCA' 'BRCA' 'BRCA' 'PRAD' 'COAD' 'BRCA' 'PRAD' 'BRCA'\n 'BRCA' 'KIRC' 'BRCA' 'KIRC' 'LUAD' 'KIRC' 'LUAD' 'COAD' 'LUAD' 'LUAD'\n 'PRAD' 'BRCA' 'LUAD' 'PRAD' 'BRCA' 'KIRC' 'KIRC' 'KIRC' 'BRCA' 'BRCA'\n 'LUAD' 'KIRC' 'LUAD' 'BRCA' 'PRAD' 'PRAD' 'PRAD' 'BRCA' 'KIRC' 'LUAD'\n 'COAD' 'BRCA' 'COAD' 'BRCA' 'BRCA' 'KIRC' 'LUAD' 'BRCA' 'KIRC' 'COAD'\n 'BRCA' 'PRAD' 'BRCA' 'KIRC' 'LUAD' 'COAD' 'PRAD' 'BRCA' 'LUAD' 'LUAD'\n 'LUAD' 'LUAD' 'BRCA' 'BRCA' 'LUAD' 'BRCA' 'BRCA' 'PRAD' 'PRAD' 'LUAD'\n 'PRAD' 'LUAD' 'KIRC' 'BRCA' 'PRAD' 'LUAD' 'COAD' 'KIRC' 'LUAD' 'BRCA'\n 'KIRC' 'LUAD' 'BRCA' 'LUAD' 'BRCA' 'BRCA' 'BRCA' 'PRAD' 'BRCA' 'KIRC'\n 'COAD' 'KIRC' 'BRCA' 'PRAD' 'PRAD' 'PRAD' 'LUAD' 'LUAD' 'BRCA' 'LUAD'\n 'LUAD' 'KIRC' 'LUAD' 'PRAD' 'LUAD' 'BRCA' 'BRCA' 'BRCA' 'LUAD' 'LUAD'\n 'BRCA' 'KIRC' 'KIRC' 'KIRC' 'KIRC' 'PRAD' 'BRCA' 'PRAD' 'BRCA' 'LUAD'\n 'LUAD' 'BRCA' 'PRAD' 'BRCA' 'PRAD' 'BRCA' 'BRCA' 'BRCA' 'LUAD' 'BRCA'\n 'KIRC' 'LUAD' 'KIRC' 'KIRC' 'LUAD' 'BRCA' 'KIRC' 'PRAD' 'BRCA' 'LUAD'\n 'LUAD' 'PRAD' 'COAD' 'BRCA' 'KIRC' 'PRAD' 'KIRC' 'COAD' 'BRCA' 'KIRC'\n 'KIRC' 'LUAD' 'PRAD' 'PRAD' 'LUAD' 'LUAD' 'KIRC' 'BRCA' 'BRCA' 'COAD'\n 'BRCA' 'PRAD' 'COAD' 'BRCA' 'PRAD' 'KIRC' 'PRAD' 'PRAD' 'PRAD' 'BRCA'\n 'COAD' 'COAD' 'LUAD' 'COAD' 'COAD' 'PRAD' 'LUAD' 'BRCA' 'BRCA' 'KIRC'\n 'KIRC' 'BRCA' 'COAD' 'PRAD' 'KIRC' 'PRAD' 'BRCA' 'BRCA' 'KIRC' 'BRCA'\n 'BRCA' 'BRCA' 'BRCA' 'LUAD' 'LUAD' 'BRCA' 'BRCA' 'BRCA' 'KIRC' 'KIRC'\n 'KIRC' 'KIRC' 'BRCA' 'BRCA' 'BRCA' 'KIRC' 'BRCA' 'BRCA' 'LUAD' 'PRAD'\n 'BRCA' 'BRCA' 'COAD' 'LUAD' 'PRAD' 'BRCA' 'BRCA' 'BRCA' 'COAD' 'BRCA'\n 'PRAD' 'BRCA' 'COAD' 'LUAD' 'LUAD' 'PRAD' 'KIRC' 'BRCA' 'KIRC' 'KIRC'\n 'LUAD' 'COAD' 'KIRC' 'BRCA' 'BRCA' 'BRCA' 'BRCA' 'KIRC' 'BRCA' 'BRCA'\n 'PRAD' 'BRCA' 'KIRC' 'BRCA' 'LUAD' 'PRAD' 'KIRC' 'BRCA' 'PRAD' 'COAD'\n 'BRCA' 'BRCA' 'BRCA' 'LUAD' 'LUAD' 'LUAD' 'BRCA' 'BRCA' 'PRAD' 'LUAD'\n 'BRCA' 'KIRC' 'BRCA' 'COAD' 'COAD' 'LUAD' 'BRCA' 'KIRC' 'BRCA' 'BRCA'\n 'BRCA' 'COAD' 'LUAD' 'COAD' 'KIRC' 'PRAD' 'KIRC' 'BRCA' 'BRCA' 'KIRC'\n 'BRCA' 'COAD' 'PRAD' 'LUAD' 'PRAD' 'BRCA' 'KIRC' 'PRAD' 'BRCA' 'COAD'\n 'KIRC' 'KIRC' 'COAD' 'COAD' 'PRAD' 'BRCA' 'BRCA' 'COAD' 'KIRC' 'BRCA'\n 'PRAD' 'BRCA' 'BRCA' 'BRCA' 'LUAD' 'LUAD' 'KIRC' 'LUAD' 'BRCA' 'KIRC'\n 'COAD' 'PRAD' 'BRCA' 'LUAD' 'PRAD' 'BRCA' 'BRCA' 'BRCA' 'LUAD' 'BRCA'\n 'BRCA' 'PRAD' 'BRCA' 'PRAD' 'COAD' 'BRCA' 'LUAD' 'BRCA' 'BRCA' 'LUAD'\n 'BRCA' 'BRCA' 'BRCA' 'KIRC' 'LUAD' 'PRAD' 'BRCA' 'PRAD' 'KIRC' 'BRCA'\n 'KIRC' 'COAD' 'BRCA' 'PRAD' 'LUAD' 'KIRC' 'BRCA' 'BRCA' 'KIRC' 'BRCA'\n 'LUAD' 'BRCA' 'BRCA' 'PRAD' 'COAD' 'BRCA' 'KIRC' 'LUAD' 'PRAD' 'BRCA'\n 'PRAD' 'BRCA' 'BRCA' 'BRCA' 'BRCA' 'KIRC' 'LUAD' 'BRCA' 'KIRC' 'BRCA'\n 'BRCA' 'LUAD' 'LUAD' 'KIRC' 'COAD' 'PRAD' 'COAD' 'BRCA' 'KIRC' 'KIRC'\n 'BRCA' 'PRAD' 'KIRC' 'COAD' 'LUAD' 'LUAD' 'BRCA' 'PRAD' 'PRAD' 'BRCA'\n 'PRAD' 'LUAD' 'KIRC' 'PRAD' 'BRCA' 'LUAD' 'PRAD' 'LUAD' 'BRCA' 'BRCA'\n 'COAD' 'LUAD' 'KIRC' 'COAD' 'LUAD' 'BRCA' 'PRAD' 'BRCA' 'BRCA' 'PRAD'\n 'BRCA' 'COAD' 'BRCA' 'COAD' 'KIRC' 'BRCA' 'BRCA' 'LUAD' 'LUAD' 'LUAD'\n 'COAD' 'KIRC' 'LUAD' 'LUAD' 'BRCA' 'BRCA' 'KIRC' 'PRAD' 'LUAD' 'PRAD'\n 'BRCA' 'KIRC' 'BRCA' 'KIRC' 'KIRC' 'PRAD' 'PRAD' 'LUAD' 'BRCA' 'KIRC'\n 'COAD' 'COAD' 'BRCA' 'KIRC' 'KIRC' 'BRCA' 'BRCA' 'PRAD' 'KIRC' 'COAD'\n 'BRCA' 'BRCA' 'COAD' 'LUAD' 'BRCA' 'BRCA' 'BRCA' 'KIRC' 'PRAD' 'LUAD'\n 'LUAD' 'BRCA' 'KIRC' 'COAD' 'KIRC' 'KIRC' 'BRCA' 'PRAD' 'LUAD' 'KIRC'\n 'BRCA' 'COAD' 'LUAD' 'LUAD' 'LUAD' 'PRAD' 'LUAD' 'KIRC' 'BRCA' 'BRCA'\n 'COAD' 'PRAD' 'BRCA' 'BRCA' 'BRCA' 'KIRC' 'LUAD' 'LUAD' 'BRCA' 'PRAD'\n 'LUAD' 'LUAD' 'BRCA' 'KIRC' 'PRAD' 'COAD' 'LUAD' 'PRAD' 'COAD' 'LUAD'\n 'COAD' 'KIRC' 'KIRC' 'BRCA' 'BRCA' 'KIRC' 'KIRC' 'COAD' 'BRCA' 'LUAD'\n 'PRAD' 'PRAD' 'KIRC' 'BRCA' 'LUAD' 'BRCA' 'BRCA' 'COAD' 'BRCA' 'PRAD'\n 'PRAD' 'BRCA' 'BRCA' 'COAD' 'BRCA' 'KIRC' 'BRCA' 'BRCA' 'COAD' 'BRCA'\n 'PRAD' 'BRCA' 'BRCA' 'KIRC' 'PRAD' 'LUAD' 'BRCA' 'BRCA' 'KIRC' 'BRCA'\n 'BRCA' 'BRCA' 'BRCA' 'BRCA' 'COAD' 'LUAD' 'LUAD' 'BRCA' 'BRCA' 'BRCA'\n 'PRAD' 'BRCA' 'BRCA' 'KIRC' 'LUAD' 'LUAD' 'KIRC' 'KIRC' 'LUAD' 'KIRC'\n 'COAD' 'BRCA' 'COAD' 'KIRC' 'BRCA' 'BRCA' 'PRAD' 'PRAD' 'PRAD' 'LUAD'\n 'PRAD' 'PRAD' 'COAD' 'BRCA' 'BRCA' 'COAD' 'LUAD' 'KIRC' 'BRCA' 'KIRC'\n 'COAD' 'BRCA' 'BRCA' 'BRCA' 'PRAD' 'LUAD' 'KIRC' 'BRCA' 'PRAD' 'KIRC'\n 'PRAD' 'BRCA' 'LUAD' 'KIRC' 'PRAD' 'LUAD' 'PRAD' 'PRAD' 'BRCA' 'KIRC'\n 'PRAD' 'LUAD' 'COAD' 'COAD' 'BRCA' 'BRCA' 'BRCA' 'LUAD' 'KIRC' 'KIRC'\n 'KIRC' 'BRCA' 'LUAD' 'KIRC' 'PRAD' 'BRCA' 'LUAD' 'PRAD' 'BRCA' 'PRAD'\n 'BRCA' 'KIRC' 'BRCA' 'COAD' 'PRAD' 'PRAD' 'KIRC' 'PRAD' 'KIRC' 'BRCA'\n 'LUAD' 'LUAD' 'BRCA' 'BRCA' 'KIRC' 'BRCA' 'BRCA' 'BRCA' 'BRCA' 'KIRC'\n 'KIRC' 'PRAD' 'COAD' 'KIRC' 'BRCA' 'BRCA' 'KIRC' 'BRCA' 'LUAD' 'BRCA'\n 'BRCA' 'PRAD' 'BRCA' 'PRAD' 'BRCA' 'COAD' 'BRCA' 'BRCA' 'KIRC' 'LUAD'\n 'BRCA' 'BRCA' 'PRAD' 'BRCA' 'PRAD' 'COAD' 'BRCA' 'BRCA' 'BRCA' 'LUAD'\n 'BRCA' 'LUAD' 'BRCA' 'LUAD' 'KIRC' 'KIRC' 'COAD' 'COAD' 'BRCA' 'BRCA'\n 'BRCA' 'LUAD' 'BRCA' 'LUAD' 'KIRC' 'BRCA' 'LUAD' 'KIRC' 'LUAD' 'LUAD'\n 'LUAD' 'KIRC' 'BRCA' 'PRAD' 'BRCA' 'BRCA' 'KIRC' 'BRCA' 'PRAD' 'KIRC'\n 'BRCA' 'BRCA' 'BRCA' 'BRCA' 'PRAD' 'LUAD' 'BRCA' 'LUAD' 'COAD' 'PRAD'\n 'PRAD'].\nReshape your data either using array.reshape(-1, 1) if your data has a single feature or array.reshape(1, -1) if it contains a single sample."
          ]
        }
      ]
    },
    {
      "cell_type": "markdown",
      "source": [
        "# ***Utiliser une technique de validation croisé***"
      ],
      "metadata": {
        "id": "RvhZUhBRYTol"
      }
    },
    {
      "cell_type": "code",
      "source": [
        "model = BaggingClassifier()\n",
        "from sklearn.model_selection import cross_validate\n",
        "scores = cross_validate(model,x, y, cv=5,scoring=['accuracy','precision_weighted'])\n",
        "print(scores)"
      ],
      "metadata": {
        "colab": {
          "base_uri": "https://localhost:8080/"
        },
        "id": "ZHZX7O0KYfb1",
        "outputId": "9a5593ca-4cfb-4112-badd-02ce8b565b88"
      },
      "execution_count": null,
      "outputs": [
        {
          "output_type": "stream",
          "name": "stdout",
          "text": [
            "{'fit_time': array([25.73437309, 25.60909534, 24.90800118, 25.48172784, 23.64100051]), 'score_time': array([0.234375  , 0.19490981, 0.19068122, 0.18629527, 0.2265811 ]), 'test_accuracy': array([0.99378882, 1.        , 0.98125   , 0.9875    , 0.975     ]), 'test_precision_weighted': array([0.99389064, 1.        , 0.9819774 , 0.98790323, 0.97583333])}\n"
          ]
        }
      ]
    },
    {
      "cell_type": "code",
      "source": [
        "SCORERS.keys()"
      ],
      "metadata": {
        "colab": {
          "base_uri": "https://localhost:8080/"
        },
        "id": "zV6kOIivaBqd",
        "outputId": "8dc09da7-4d28-44c1-b1a9-6a1925535956"
      },
      "execution_count": null,
      "outputs": [
        {
          "output_type": "execute_result",
          "data": {
            "text/plain": [
              "dict_keys(['explained_variance', 'r2', 'max_error', 'neg_median_absolute_error', 'neg_mean_absolute_error', 'neg_mean_absolute_percentage_error', 'neg_mean_squared_error', 'neg_mean_squared_log_error', 'neg_root_mean_squared_error', 'neg_mean_poisson_deviance', 'neg_mean_gamma_deviance', 'accuracy', 'top_k_accuracy', 'roc_auc', 'roc_auc_ovr', 'roc_auc_ovo', 'roc_auc_ovr_weighted', 'roc_auc_ovo_weighted', 'balanced_accuracy', 'average_precision', 'neg_log_loss', 'neg_brier_score', 'adjusted_rand_score', 'rand_score', 'homogeneity_score', 'completeness_score', 'v_measure_score', 'mutual_info_score', 'adjusted_mutual_info_score', 'normalized_mutual_info_score', 'fowlkes_mallows_score', 'precision', 'precision_macro', 'precision_micro', 'precision_samples', 'precision_weighted', 'recall', 'recall_macro', 'recall_micro', 'recall_samples', 'recall_weighted', 'f1', 'f1_macro', 'f1_micro', 'f1_samples', 'f1_weighted', 'jaccard', 'jaccard_macro', 'jaccard_micro', 'jaccard_samples', 'jaccard_weighted'])"
            ]
          },
          "metadata": {},
          "execution_count": 52
        }
      ]
    }
  ]
}